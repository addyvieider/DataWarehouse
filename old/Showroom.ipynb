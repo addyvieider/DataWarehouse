{
 "cells": [
  {
   "cell_type": "code",
   "execution_count": 1,
   "metadata": {},
   "outputs": [],
   "source": [
    "import psycopg2\n",
    "import random\n",
    "import pandas as pd\n",
    "import requests"
   ]
  },
  {
   "cell_type": "code",
   "execution_count": 2,
   "metadata": {
    "scrolled": false
   },
   "outputs": [],
   "source": [
    "streets_df = pd.read_csv('streetnames-southtyrol_20170608.csv', delimiter=';')"
   ]
  },
  {
   "cell_type": "code",
   "execution_count": 3,
   "metadata": {},
   "outputs": [],
   "source": [
    "res = requests.get('http://uinames.com/api/?region=austria&amount=5')\n",
    "managers = res.json()"
   ]
  },
  {
   "cell_type": "code",
   "execution_count": 4,
   "metadata": {},
   "outputs": [],
   "source": [
    "conn = psycopg2.connect(dbname='admt_g02', user='admt_g02', password='xi6aeSoo', host='alcor.inf.unibz.it', port=5433)\n",
    "cur = conn.cursor()"
   ]
  },
  {
   "cell_type": "code",
   "execution_count": 5,
   "metadata": {},
   "outputs": [],
   "source": [
    "cur.execute('Delete from warehouse.showroom')\n",
    "\n",
    "cur.execute('Select distinct district FROM warehouse.location where province = \\'Bozen\\'')\n",
    "districts = cur.fetchall()"
   ]
  },
  {
   "cell_type": "code",
   "execution_count": 6,
   "metadata": {
    "scrolled": true
   },
   "outputs": [],
   "source": [
    "for district in districts:\n",
    "    cur.execute('Select city FROM warehouse.location where district = \\'%s\\'' % district[0])\n",
    "    cities = cur.fetchall()\n",
    "    if(len(cities ) > 0):\n",
    "        city = cities[random.randrange(len(cities))][0]\n",
    "        \n",
    "        streets = streets_df.loc[streets_df['GEMEINDE_COMUNE_DE'].str.slice(0,4).str.lower()== city.lower()[:4]].sample(1)\n",
    "        street = streets['STRASSE_VIA_DE'].iloc[0]\n",
    "        address = f'{street} - {random.randint(1, 100)}'\n",
    "        \n",
    "        manager = managers[random.randrange(len(managers))]\n",
    "        \n",
    "        telephone = f'047{random.randint(0,9)} - {\"\".join([str(random.randint(0,9)) for _ in range(6)])}' \n",
    "    \n",
    "        cur.execute(f'Insert into warehouse.showroom (showroom_name, showroom_telephone, showroom_address, \\\n",
    "        showroom_size, showroom_manager, location_id) Values (\\'Showroom-{city}\\', \\'{telephone}\\', \\'{address}\\', \\\n",
    "        {random.randint(100, 1000)}, \\'{manager[\"name\"] + \" \" + manager[\"surname\"]}\\', \\\n",
    "        (Select location_id from warehouse.location where city = \\'{city}\\'))')"
   ]
  },
  {
   "cell_type": "code",
   "execution_count": 7,
   "metadata": {},
   "outputs": [],
   "source": [
    "conn.commit()\n",
    "cur.close()\n",
    "conn.close()"
   ]
  },
  {
   "cell_type": "code",
   "execution_count": null,
   "metadata": {},
   "outputs": [],
   "source": []
  },
  {
   "cell_type": "code",
   "execution_count": null,
   "metadata": {},
   "outputs": [],
   "source": []
  },
  {
   "cell_type": "code",
   "execution_count": null,
   "metadata": {},
   "outputs": [],
   "source": []
  }
 ],
 "metadata": {
  "kernelspec": {
   "display_name": "Python 3",
   "language": "python",
   "name": "python3"
  },
  "language_info": {
   "codemirror_mode": {
    "name": "ipython",
    "version": 3
   },
   "file_extension": ".py",
   "mimetype": "text/x-python",
   "name": "python",
   "nbconvert_exporter": "python",
   "pygments_lexer": "ipython3",
   "version": "3.7.0"
  }
 },
 "nbformat": 4,
 "nbformat_minor": 2
}

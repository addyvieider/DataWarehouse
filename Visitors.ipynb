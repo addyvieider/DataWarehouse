{
 "cells": [
  {
   "cell_type": "code",
   "execution_count": 1,
   "metadata": {},
   "outputs": [],
   "source": [
    "import psycopg2\n",
    "import random\n",
    "import requests\n",
    "from numpy.random import choice"
   ]
  },
  {
   "cell_type": "code",
   "execution_count": 2,
   "metadata": {},
   "outputs": [],
   "source": [
    "sectors = ['Private', 'Hotel', 'Gastronomy', 'Public']"
   ]
  },
  {
   "cell_type": "code",
   "execution_count": 3,
   "metadata": {},
   "outputs": [],
   "source": [
    "conn = psycopg2.connect(dbname='admt_g02', user='admt_g02', password='xi6aeSoo', host='alcor.inf.unibz.it')\n",
    "cur = conn.cursor()"
   ]
  },
  {
   "cell_type": "code",
   "execution_count": 4,
   "metadata": {},
   "outputs": [],
   "source": [
    "def save_visitor(visitor, location_id, language, telephone):\n",
    "    name = visitor['name']\n",
    "    surname = visitor['surname']\n",
    "    gender = visitor['gender']\n",
    "    \n",
    "    email = f'{name.lower()}.{surname.lower()}@email.com' \n",
    "    customer_number = f'\\'{\"\".join([str(random.randint(0,9)) for _ in range(10)])}\\'' if random.random() < 0.3 else 'NULL'\n",
    "    \n",
    "    sector = choice(sectors, p=[0.4, 0.3, 0.2, 0.1])\n",
    "    \n",
    "    #print(name, surname, gender, email, telephone, language, customer_number, sector, location_id)\n",
    "    \n",
    "    cur.execute(f'Insert into warehouse.visitor (visitor_name, visitor_telephone, visitor_email, \\\n",
    "    visitor_gender, visitor_language, location_id, visitor_sector, customer_number) values (\\'{name} {surname}\\', \\'{telephone}\\', \\'{email}\\', \\\n",
    "    \\'{gender}\\', \\'{language}\\', {location_id}, \\'{sector}\\', {customer_number})')"
   ]
  },
  {
   "cell_type": "code",
   "execution_count": 5,
   "metadata": {},
   "outputs": [],
   "source": [
    "cur.execute('Delete from warehouse.visitor')\n",
    "\n",
    "cur.execute('Select distinct district FROM warehouse.location where province = \\'Bozen\\'')\n",
    "districts = cur.fetchall()\n",
    "\n",
    "for district in districts:\n",
    "    cur.execute('Select location_id FROM warehouse.location where district = \\'%s\\'' % district[0])\n",
    "    cities = cur.fetchall()\n",
    "\n",
    "    num_visitors_de = random.randint(20,30) if district[0] == 'Bozen' else random.randint(10,20)\n",
    "    #print(district[0], num_visitors)\n",
    "    \n",
    "    res = requests.get(f'http://uinames.com/api/?region=austria&amount={num_visitors_de}')\n",
    "    visitors_s_d = res.json()\n",
    "\n",
    "    for visitor in visitors_s_d:\n",
    "        location_id = cities[random.randrange(len(cities))][0]\n",
    "        telephone = f'3{\"\".join([str(random.randint(0,9)) for _ in range(2)])} {\"\".join([str(random.randint(0,9)) for _ in range(7)])}'\n",
    "        save_visitor(visitor, location_id, 'german', telephone)\n",
    "        \n",
    "    num_visitors_it = random.randint(20,30) if district[0] == 'Bozen' else random.randint(5,10)\n",
    "    \n",
    "    res = requests.get(f'http://uinames.com/api/?region=italy&amount={num_visitors_it}')\n",
    "    visitors_s_i = res.json()\n",
    "\n",
    "    for visitor in visitors_s_i:\n",
    "        location_id = cities[random.randrange(len(cities))][0]\n",
    "        telephone = f'3{\"\".join([str(random.randint(0,9)) for _ in range(2)])} {\"\".join([str(random.randint(0,9)) for _ in range(7)])}'\n",
    "        save_visitor(visitor, location_id, 'italian', telephone)\n",
    "        \n",
    "    \n",
    "    \n",
    "    "
   ]
  },
  {
   "cell_type": "code",
   "execution_count": 6,
   "metadata": {},
   "outputs": [],
   "source": [
    "cur.execute('Select location_id FROM warehouse.location where city is null and province = \\'Trento\\'')\n",
    "provinces = cur.fetchall()\n",
    "\n",
    "num_visitors_it = random.randint(20,30)\n",
    "\n",
    "res = requests.get(f'http://uinames.com/api/?region=italy&amount={num_visitors_it}')\n",
    "visitors_s_i = res.json()\n",
    "\n",
    "for visitor in visitors_s_i:\n",
    "    location_id = provinces[random.randrange(len(provinces))][0]\n",
    "    telephone = f'3{\"\".join([str(random.randint(0,9)) for _ in range(2)])} {\"\".join([str(random.randint(0,9)) for _ in range(7)])}'\n",
    "    save_visitor(visitor, location_id, 'italian', telephone)"
   ]
  },
  {
   "cell_type": "code",
   "execution_count": 7,
   "metadata": {},
   "outputs": [],
   "source": [
    "cur.execute('Select location_id FROM warehouse.location where city is null and province is not null and province != \\'Trento\\'')\n",
    "provinces = cur.fetchall()\n",
    "\n",
    "num_visitors_it = random.randint(20,30)\n",
    "\n",
    "res = requests.get(f'http://uinames.com/api/?region=italy&amount={num_visitors_it}')\n",
    "visitors_s_i = res.json()\n",
    "\n",
    "for visitor in visitors_s_i:\n",
    "    location_id = provinces[random.randrange(len(provinces))][0]\n",
    "    telephone = f'3{\"\".join([str(random.randint(0,9)) for _ in range(2)])} {\"\".join([str(random.randint(0,9)) for _ in range(7)])}'\n",
    "    save_visitor(visitor, location_id, 'italian', telephone)"
   ]
  },
  {
   "cell_type": "code",
   "execution_count": 8,
   "metadata": {},
   "outputs": [],
   "source": [
    "conn.commit()\n",
    "cur.close()\n",
    "conn.close()"
   ]
  },
  {
   "cell_type": "code",
   "execution_count": null,
   "metadata": {},
   "outputs": [],
   "source": []
  },
  {
   "cell_type": "code",
   "execution_count": null,
   "metadata": {},
   "outputs": [],
   "source": []
  },
  {
   "cell_type": "code",
   "execution_count": null,
   "metadata": {},
   "outputs": [],
   "source": []
  }
 ],
 "metadata": {
  "kernelspec": {
   "display_name": "Python 3",
   "language": "python",
   "name": "python3"
  },
  "language_info": {
   "codemirror_mode": {
    "name": "ipython",
    "version": 3
   },
   "file_extension": ".py",
   "mimetype": "text/x-python",
   "name": "python",
   "nbconvert_exporter": "python",
   "pygments_lexer": "ipython3",
   "version": "3.7.0"
  }
 },
 "nbformat": 4,
 "nbformat_minor": 2
}

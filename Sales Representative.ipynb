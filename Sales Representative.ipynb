{
 "cells": [
  {
   "cell_type": "code",
   "execution_count": 1,
   "metadata": {},
   "outputs": [],
   "source": [
    "import psycopg2\n",
    "import random\n",
    "import requests"
   ]
  },
  {
   "cell_type": "code",
   "execution_count": 2,
   "metadata": {},
   "outputs": [],
   "source": [
    "conn = psycopg2.connect(dbname='admt_g02', user='admt_g02', password='xi6aeSoo', host='alcor.inf.unibz.it')\n",
    "cur = conn.cursor()"
   ]
  },
  {
   "cell_type": "code",
   "execution_count": 3,
   "metadata": {},
   "outputs": [],
   "source": [
    "cur.execute('Select location_id FROM warehouse.location where city is not null')\n",
    "cities = cur.fetchall()"
   ]
  },
  {
   "cell_type": "code",
   "execution_count": 4,
   "metadata": {},
   "outputs": [],
   "source": [
    "def get_language():\n",
    "    r = random.random()\n",
    "    if r < 0.1:\n",
    "        return 'england', 'english'\n",
    "    elif r < 0.3:\n",
    "        return 'italy', 'italian'\n",
    "    else:\n",
    "        return 'austria', 'german'\n",
    "    "
   ]
  },
  {
   "cell_type": "code",
   "execution_count": 5,
   "metadata": {
    "scrolled": true
   },
   "outputs": [
    {
     "name": "stdout",
     "output_type": "stream",
     "text": [
      "Abigail Moore 385 5889770 amoore@showroom.bz female english 63\n",
      "Zak Kennedy 375 8531069 zkennedy@showroom.bz male english 36\n",
      "Laura Müller 359 6489716 lmüller@showroom.bz female german 82\n",
      "Alberto Negri 361 8589244 anegri@showroom.bz male italian 55\n",
      "Patrick Müller 330 5708229 pmüller@showroom.bz male german 6\n",
      "Jennifer Müller 356 4642433 jmüller@showroom.bz female german 12\n",
      "Marcel Berger 356 1180972 mberger@showroom.bz male german 59\n",
      "Wolfgang Eder 348 6034231 weder@showroom.bz male german 45\n",
      "Nadine Eder 362 6782484 neder@showroom.bz female german 92\n",
      "Melanie Schuster 305 4295611 mschuster@showroom.bz female german 74\n",
      "Verena Schwarz 377 9662952 vschwarz@showroom.bz female german 84\n",
      "Angela Ferri 307 1702485 aferri@showroom.bz female italian 3\n",
      "Scott White 389 3925510 swhite@showroom.bz male english 101\n",
      "Beatrice Lombardi 322 1587168 blombardi@showroom.bz female italian 74\n",
      "Raphael Lechner 389 2535382 rlechner@showroom.bz male german 67\n",
      "Paul Lang 330 7371492 plang@showroom.bz male german 43\n",
      "Angelo Sorrentino 381 6979873 asorrentino@showroom.bz male italian 103\n",
      "Jasmin Egger 338 9229936 jegger@showroom.bz female german 73\n",
      "Andrea Mayer 330 9238527 amayer@showroom.bz female german 5\n",
      "Tommaso Romano 344 7956185 tromano@showroom.bz male italian 58\n",
      "Tanja Schmid 332 4324347 tschmid@showroom.bz female german 37\n",
      "Markus Lehner 342 7822209 mlehner@showroom.bz male german 73\n",
      "Laura Pellegrin 314 3020626 lpellegrin@showroom.bz female italian 2\n"
     ]
    }
   ],
   "source": [
    "cur.execute('Delete from warehouse.sales_representative')\n",
    "\n",
    "for i in range(random.randint(20,50)):\n",
    "    country, language = get_language()\n",
    "    res = requests.get(f'http://uinames.com/api/?region={country}')\n",
    "    sales_rep = res.json()\n",
    "    name = sales_rep['name']\n",
    "    surname = sales_rep['surname']\n",
    "    gender = sales_rep['gender']\n",
    "    \n",
    "    telephone = f'3{\"\".join([str(random.randint(0,9)) for _ in range(2)])} {\"\".join([str(random.randint(0,9)) for _ in range(7)])}'\n",
    "    email = f'{name[0].lower()}{surname.lower()}@showroom.bz'\n",
    "    \n",
    "    location_id = cities[random.randrange(len(cities))][0]\n",
    "    \n",
    "    print(name, surname, telephone, email, gender, language, location_id)\n",
    "    \n",
    "    cur.execute(f'Insert into warehouse.sales_representative (sales_rep_name, sales_rep_telephone, sales_rep_email, \\\n",
    "    sales_rep_gender, sales_rep_language, location_id) values (\\'{name} {surname}\\', \\'{telephone}\\', \\'{email}\\', \\\n",
    "    \\'{gender}\\', \\'{language}\\', {location_id})')\n",
    "    \n",
    "    \n",
    "    "
   ]
  },
  {
   "cell_type": "code",
   "execution_count": 6,
   "metadata": {},
   "outputs": [],
   "source": [
    "conn.commit()\n",
    "cur.close()\n",
    "conn.close()"
   ]
  },
  {
   "cell_type": "code",
   "execution_count": null,
   "metadata": {},
   "outputs": [],
   "source": []
  }
 ],
 "metadata": {
  "kernelspec": {
   "display_name": "Python 3",
   "language": "python",
   "name": "python3"
  },
  "language_info": {
   "codemirror_mode": {
    "name": "ipython",
    "version": 3
   },
   "file_extension": ".py",
   "mimetype": "text/x-python",
   "name": "python",
   "nbconvert_exporter": "python",
   "pygments_lexer": "ipython3",
   "version": "3.7.0"
  }
 },
 "nbformat": 4,
 "nbformat_minor": 2
}

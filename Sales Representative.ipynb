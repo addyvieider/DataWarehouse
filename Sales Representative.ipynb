{
 "cells": [
  {
   "cell_type": "code",
   "execution_count": 1,
   "metadata": {},
   "outputs": [],
   "source": [
    "import psycopg2\n",
    "import random\n",
    "import requests"
   ]
  },
  {
   "cell_type": "code",
   "execution_count": 30,
   "metadata": {},
   "outputs": [],
   "source": [
    "conn = psycopg2.connect(dbname='admt_g02', user='admt_g02', password='xi6aeSoo', host='alcor.inf.unibz.it')\n",
    "cur = conn.cursor()"
   ]
  },
  {
   "cell_type": "code",
   "execution_count": 31,
   "metadata": {},
   "outputs": [],
   "source": [
    "cur.execute('Select location_id FROM warehouse.location where city is not null')\n",
    "cities = cur.fetchall()"
   ]
  },
  {
   "cell_type": "code",
   "execution_count": 32,
   "metadata": {},
   "outputs": [],
   "source": [
    "def get_language():\n",
    "    r = random.random()\n",
    "    if r < 0.1:\n",
    "        return 'england', 'english'\n",
    "    elif r < 0.3:\n",
    "        return 'italy', 'italian'\n",
    "    else:\n",
    "        return 'austria', 'german'\n",
    "    "
   ]
  },
  {
   "cell_type": "code",
   "execution_count": 33,
   "metadata": {
    "scrolled": true
   },
   "outputs": [
    {
     "name": "stdout",
     "output_type": "stream",
     "text": [
      "Antonio Rizzo 308 2414455 arizzo@showroom.bz male italian 21\n",
      "Natalie Schmid 382 6215315 nschmid@showroom.bz female german 94\n",
      "Christoph Moser 388 3580649 cmoser@showroom.bz male german 34\n",
      "Machaela Wallner 388 8309965 mwallner@showroom.bz female german 42\n",
      "Sophie Winkler 307 2613934 swinkler@showroom.bz female german 116\n",
      "Sascha Wallner 365 0767203 swallner@showroom.bz male german 71\n",
      "Greta Barbieri 347 7909133 gbarbieri@showroom.bz female italian 111\n",
      "Michael Müller 305 3196259 mmüller@showroom.bz male german 50\n",
      "Simon Berger 302 6860439 sberger@showroom.bz male german 97\n",
      "Christian Bauer 315 4395241 cbauer@showroom.bz male german 26\n",
      "Hannes Reiter 329 5291849 hreiter@showroom.bz male german 54\n",
      "Ryan Baker 314 0688763 rbaker@showroom.bz male english 1\n",
      "Gerhard Binder 334 2266680 gbinder@showroom.bz male german 90\n",
      "Bernhard Maier 371 4818418 bmaier@showroom.bz male german 87\n",
      "Simon Lang 376 7793230 slang@showroom.bz male german 17\n",
      "Isabella Steiner 324 7242498 isteiner@showroom.bz female german 45\n",
      "Chiara Ricci 384 6898093 cricci@showroom.bz female italian 71\n",
      "Christopher Davis 347 8392734 cdavis@showroom.bz male english 84\n",
      "Maria Egger 363 9566893 megger@showroom.bz female german 74\n",
      "Edoardo Sartori 357 0664565 esartori@showroom.bz male italian 111\n",
      "Luigi Valentini 393 9882719 lvalentini@showroom.bz male italian 99\n",
      "Alexander Lang 335 8660330 alang@showroom.bz male german 4\n",
      "Roberto Rossetti 366 2677500 rrossetti@showroom.bz male italian 3\n"
     ]
    }
   ],
   "source": [
    "cur.execute('Delete from warehouse.sales_representative')\n",
    "\n",
    "for i in range(random.randint(20,50)):\n",
    "    country, language = get_language()\n",
    "    res = requests.get(f'http://uinames.com/api/?region={country}')\n",
    "    sales_rep = res.json()\n",
    "    name = sales_rep['name']\n",
    "    surname = sales_rep['surname']\n",
    "    gender = sales_rep['gender']\n",
    "    \n",
    "    telephone = f'3{\"\".join([str(random.randint(0,9)) for _ in range(2)])} {\"\".join([str(random.randint(0,9)) for _ in range(7)])}'\n",
    "    email = f'{name[0].lower()}{surname.lower()}@showroom.bz'\n",
    "    \n",
    "    location_id = cities[random.randrange(len(cities))][0]\n",
    "    \n",
    "    print(name, surname, telephone, email, gender, language, location_id)\n",
    "    \n",
    "    cur.execute(f'Insert into warehouse.sales_representative (sales_rep_name, sales_rep_telephone, sales_rep_email, \\\n",
    "    sales_rep_gender, sales_rep_language, location_id) values (\\'{name} {surname}\\', \\'{telephone}\\', \\'{email}\\', \\\n",
    "    \\'{gender}\\', \\'{language}\\', {location_id})')\n",
    "    \n",
    "    \n",
    "    "
   ]
  },
  {
   "cell_type": "code",
   "execution_count": 34,
   "metadata": {},
   "outputs": [],
   "source": [
    "conn.commit()\n",
    "cur.close()\n",
    "conn.close()"
   ]
  },
  {
   "cell_type": "code",
   "execution_count": null,
   "metadata": {},
   "outputs": [],
   "source": []
  }
 ],
 "metadata": {
  "kernelspec": {
   "display_name": "Python 3",
   "language": "python",
   "name": "python3"
  },
  "language_info": {
   "codemirror_mode": {
    "name": "ipython",
    "version": 3
   },
   "file_extension": ".py",
   "mimetype": "text/x-python",
   "name": "python",
   "nbconvert_exporter": "python",
   "pygments_lexer": "ipython3",
   "version": "3.7.0"
  }
 },
 "nbformat": 4,
 "nbformat_minor": 2
}

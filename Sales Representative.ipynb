{
 "cells": [
  {
   "cell_type": "code",
   "execution_count": 1,
   "metadata": {},
   "outputs": [],
   "source": [
    "import psycopg2\n",
    "import random\n",
    "import requests"
   ]
  },
  {
   "cell_type": "code",
   "execution_count": 2,
   "metadata": {},
   "outputs": [],
   "source": [
    "conn = psycopg2.connect(dbname='admt_g02', user='admt_g02', password='xi6aeSoo', host='alcor.inf.unibz.it', port=5433)\n",
    "cur = conn.cursor()"
   ]
  },
  {
   "cell_type": "code",
   "execution_count": 3,
   "metadata": {},
   "outputs": [],
   "source": [
    "cur.execute('Select location_id FROM warehouse.location where city is not null')\n",
    "cities = cur.fetchall()"
   ]
  },
  {
   "cell_type": "code",
   "execution_count": 4,
   "metadata": {},
   "outputs": [],
   "source": [
    "def get_language():\n",
    "    r = random.random()\n",
    "    if r < 0.1:\n",
    "        return 'england', 'english'\n",
    "    elif r < 0.3:\n",
    "        return 'italy', 'italian'\n",
    "    else:\n",
    "        return 'austria', 'german'\n",
    "    "
   ]
  },
  {
   "cell_type": "code",
   "execution_count": 5,
   "metadata": {
    "scrolled": true
   },
   "outputs": [
    {
     "name": "stdout",
     "output_type": "stream",
     "text": [
      "Tobias Berger 312 3147844 tberger@showroom.bz male german 66\n",
      "Julia Winkler 339 2720049 jwinkler@showroom.bz female german 103\n",
      "Peter Winkler 383 8954151 pwinkler@showroom.bz male german 24\n",
      "Gianluca Fabbri 386 4855604 gfabbri@showroom.bz male italian 4\n",
      "Elisabeth Schwarz 348 4108337 eschwarz@showroom.bz female german 74\n",
      "Mario Lang 355 7974371 mlang@showroom.bz male german 46\n",
      "Noemi Bruno 306 7982976 nbruno@showroom.bz female italian 86\n",
      "Marco Auer 386 1806345 mauer@showroom.bz male german 81\n",
      "Martina Lehner 343 3502990 mlehner@showroom.bz female german 31\n",
      "Lukas Schuster 362 1766644 lschuster@showroom.bz male german 42\n",
      "Caroline Eder 377 4053013 ceder@showroom.bz female german 21\n",
      "Valerio Adami 394 0246255 vadami@showroom.bz male italian 16\n",
      "Fabio Costa 315 9430546 fcosta@showroom.bz male italian 14\n",
      "Sandra Berger 398 8403928 sberger@showroom.bz female german 16\n",
      "Pietro Negri 337 7564316 pnegri@showroom.bz male italian 96\n",
      "Mario Auer 343 9472913 mauer@showroom.bz male german 109\n",
      "Carmen Wallner 352 2133927 cwallner@showroom.bz female german 111\n",
      "Simone Serra 388 5958796 sserra@showroom.bz male italian 42\n",
      "Camilla Caputo 397 5336265 ccaputo@showroom.bz female italian 56\n",
      "Fabian Leitner 341 3662208 fleitner@showroom.bz male german 61\n",
      "Gabriel Morgan 316 5304004 gmorgan@showroom.bz male english 66\n",
      "Michael Schuster 332 9039942 mschuster@showroom.bz male german 15\n",
      "Patrick Schneider 312 8514255 pschneider@showroom.bz male german 27\n",
      "Marco Aigner 309 8056129 maigner@showroom.bz male german 115\n"
     ]
    }
   ],
   "source": [
    "cur.execute('Delete from warehouse.sales_representative')\n",
    "\n",
    "for i in range(random.randint(20,50)):\n",
    "    country, language = get_language()\n",
    "    res = requests.get(f'http://uinames.com/api/?region={country}')\n",
    "    sales_rep = res.json()\n",
    "    name = sales_rep['name']\n",
    "    surname = sales_rep['surname']\n",
    "    gender = sales_rep['gender']\n",
    "    \n",
    "    telephone = f'3{\"\".join([str(random.randint(0,9)) for _ in range(2)])} {\"\".join([str(random.randint(0,9)) for _ in range(7)])}'\n",
    "    email = f'{name[0].lower()}{surname.lower()}@showroom.bz'\n",
    "    \n",
    "    location_id = cities[random.randrange(len(cities))][0]\n",
    "    \n",
    "    print(name, surname, telephone, email, gender, language, location_id)\n",
    "    \n",
    "    cur.execute(f'Insert into warehouse.sales_representative (sales_rep_name, sales_rep_telephone, sales_rep_email, \\\n",
    "    sales_rep_gender, sales_rep_language, location_id) values (\\'{name} {surname}\\', \\'{telephone}\\', \\'{email}\\', \\\n",
    "    \\'{gender}\\', \\'{language}\\', {location_id})')\n",
    "    \n",
    "    \n",
    "    "
   ]
  },
  {
   "cell_type": "code",
   "execution_count": 6,
   "metadata": {},
   "outputs": [],
   "source": [
    "conn.commit()\n",
    "cur.close()\n",
    "conn.close()"
   ]
  },
  {
   "cell_type": "code",
   "execution_count": null,
   "metadata": {},
   "outputs": [],
   "source": []
  }
 ],
 "metadata": {
  "kernelspec": {
   "display_name": "Python 3",
   "language": "python",
   "name": "python3"
  },
  "language_info": {
   "codemirror_mode": {
    "name": "ipython",
    "version": 3
   },
   "file_extension": ".py",
   "mimetype": "text/x-python",
   "name": "python",
   "nbconvert_exporter": "python",
   "pygments_lexer": "ipython3",
   "version": "3.7.0"
  }
 },
 "nbformat": 4,
 "nbformat_minor": 2
}

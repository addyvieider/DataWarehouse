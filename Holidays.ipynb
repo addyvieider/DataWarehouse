{
 "cells": [
  {
   "cell_type": "code",
   "execution_count": 1,
   "metadata": {},
   "outputs": [],
   "source": [
    "import requests\n",
    "import psycopg2"
   ]
  },
  {
   "cell_type": "code",
   "execution_count": 2,
   "metadata": {},
   "outputs": [],
   "source": [
    "conn = psycopg2.connect(dbname='admt_g02', user='admt_g02', password='xi6aeSoo', host='alcor.inf.unibz.it')\n",
    "cur = conn.cursor()"
   ]
  },
  {
   "cell_type": "code",
   "execution_count": 3,
   "metadata": {},
   "outputs": [],
   "source": [
    "for year in range(2010, 2019):\n",
    "    res = requests.get('https://www.calendarindex.com/api/v1/holidays?api_key=007be62c7d42b994e05d446dfd5ff2332ce4f09f&country=IT&year=%d' % year)\n",
    "    res_json = res.json()\n",
    "\n",
    "    for holiday in res_json['response']['holidays']:\n",
    "        date = holiday['date'][:10].replace('-', '')\n",
    "        name = holiday['name']\n",
    "        cur.execute(\"SELECT * FROM warehouse.date WHERE date_id = %s ;\" % date)\n",
    "        \n",
    "        if(len(cur.fetchone()) > 0):\n",
    "            cur.execute(\"UPDATE warehouse.date SET holiday = True, holiday_name = '%s' WHERE date_id = %s ;\" % (name, date))\n",
    "\n",
    "conn.commit()"
   ]
  },
  {
   "cell_type": "code",
   "execution_count": 4,
   "metadata": {},
   "outputs": [],
   "source": [
    "cur.close()\n",
    "conn.close()"
   ]
  },
  {
   "cell_type": "code",
   "execution_count": null,
   "metadata": {},
   "outputs": [],
   "source": []
  }
 ],
 "metadata": {
  "kernelspec": {
   "display_name": "Python 3",
   "language": "python",
   "name": "python3"
  },
  "language_info": {
   "codemirror_mode": {
    "name": "ipython",
    "version": 3
   },
   "file_extension": ".py",
   "mimetype": "text/x-python",
   "name": "python",
   "nbconvert_exporter": "python",
   "pygments_lexer": "ipython3",
   "version": "3.7.0"
  }
 },
 "nbformat": 4,
 "nbformat_minor": 2
}

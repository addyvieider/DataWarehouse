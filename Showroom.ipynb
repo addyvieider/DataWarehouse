{
 "cells": [
  {
   "cell_type": "code",
   "execution_count": 28,
   "metadata": {},
   "outputs": [],
   "source": [
    "import psycopg2\n",
    "import random"
   ]
  },
  {
   "cell_type": "code",
   "execution_count": 46,
   "metadata": {},
   "outputs": [],
   "source": [
    "conn = psycopg2.connect(dbname='admt_g02', user='admt_g02', password='xi6aeSoo', host='alcor.inf.unibz.it')\n",
    "cur = conn.cursor()"
   ]
  },
  {
   "cell_type": "code",
   "execution_count": 47,
   "metadata": {},
   "outputs": [],
   "source": [
    "cur.execute('Select distinct district FROM warehouse.location where province = \\'Bozen\\'')\n",
    "districts = cur.fetchall()"
   ]
  },
  {
   "cell_type": "code",
   "execution_count": 48,
   "metadata": {},
   "outputs": [],
   "source": [
    "for district in districts:\n",
    "    cur.execute('Select city FROM warehouse.location where district = \\'%s\\'' % district[0])\n",
    "    cities = cur.fetchall()\n",
    "    city = cities[random.randrange(len(cities))][0]\n",
    "    \n",
    "    cur.execute('Insert into warehouse.showroom (showroom_name, showroom_telephone, showroom_address, \\\n",
    "    showroom_size, showroom_manager, location_id) Values (\\'Showroom-%s\\', \\'foo\\', \\'foo\\', %d, \\'Mr foo\\', \\\n",
    "    (Select id from warehouse.location where city = \\'%s\\'))' %(city, random.randint(100, 1000), city))"
   ]
  },
  {
   "cell_type": "code",
   "execution_count": 49,
   "metadata": {},
   "outputs": [],
   "source": [
    "conn.commit()\n",
    "cur.close()\n",
    "conn.close()"
   ]
  },
  {
   "cell_type": "code",
   "execution_count": null,
   "metadata": {},
   "outputs": [],
   "source": []
  }
 ],
 "metadata": {
  "kernelspec": {
   "display_name": "Python 3",
   "language": "python",
   "name": "python3"
  },
  "language_info": {
   "codemirror_mode": {
    "name": "ipython",
    "version": 3
   },
   "file_extension": ".py",
   "mimetype": "text/x-python",
   "name": "python",
   "nbconvert_exporter": "python",
   "pygments_lexer": "ipython3",
   "version": "3.7.0"
  }
 },
 "nbformat": 4,
 "nbformat_minor": 2
}

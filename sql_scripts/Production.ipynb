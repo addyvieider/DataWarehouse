{
 "cells": [
  {
   "cell_type": "code",
   "execution_count": 3,
   "metadata": {},
   "outputs": [],
   "source": [
    "import psycopg2\n",
    "import random\n",
    "import requests\n",
    "import numpy as np\n",
    "from numpy.random import choice\n",
    "\n",
    "from bs4 import BeautifulSoup"
   ]
  },
  {
   "cell_type": "code",
   "execution_count": 4,
   "metadata": {},
   "outputs": [],
   "source": [
    "conn = psycopg2.connect(dbname='admt_g02', user='admt_g02', password='xi6aeSoo', host='alcor.inf.unibz.it', port=5433)\n",
    "cur = conn.cursor()"
   ]
  },
  {
   "cell_type": "code",
   "execution_count": 3,
   "metadata": {},
   "outputs": [],
   "source": [
    "cur.execute('Delete from warehouse.operator')\n",
    "cur.execute('Delete from warehouse.machine')\n",
    "cur.execute('Delete from warehouse.product')"
   ]
  },
  {
   "cell_type": "code",
   "execution_count": 4,
   "metadata": {},
   "outputs": [],
   "source": [
    "res = requests.get(f'http://uinames.com/api/?region=austria&amount=100')\n",
    "operators = res.json()\n",
    "\n",
    "values = []\n",
    "for operator in operators:\n",
    "    values.append(f'(\\'{operator[\"name\"]} {operator[\"surname\"]}\\')')\n",
    "    \n",
    "query_args = ','.join(values)\n",
    "cur.execute(f'insert into warehouse.operator (operator_name) values {query_args}')"
   ]
  },
  {
   "cell_type": "code",
   "execution_count": 5,
   "metadata": {},
   "outputs": [],
   "source": [
    "res = requests.get(f'http://uinames.com/api/?amount=250')\n",
    "machines = [m['surname'] for m in res.json()]\n",
    "\n",
    "res = requests.get(f'http://uinames.com/api/?amount=20')\n",
    "vendors = [v['surname'] for v in res.json()]\n",
    "\n",
    "years = list(range(1995, 2011))\n",
    "\n",
    "values = []\n",
    "for machine in machines:\n",
    "    \n",
    "    p = np.linspace(20,5,len(vendors))\n",
    "    p = p / np.sum(p)\n",
    "    vendor = choice(vendors, p=p)\n",
    "    \n",
    "    year = choice(years)   \n",
    "    values.append(f'(\\'{machine}\\', \\'{vendor}\\', {year})')\n",
    "    \n",
    "query_args = ','.join(values)\n",
    "cur.execute(f'insert into warehouse.machine (machine_name, machine_vendor, machine_purchasing_year) values {query_args}')"
   ]
  },
  {
   "cell_type": "code",
   "execution_count": 27,
   "metadata": {},
   "outputs": [],
   "source": [
    "cur.execute('Select date_id from warehouse.date where day_of_week != 6 and day_of_week != 7 and not holiday order by date_actual')\n",
    "dates = [d[0] for d in cur.fetchall()]\n",
    "\n",
    "cur.execute('Select machine_id from warehouse.machine')\n",
    "machines = [m[0] for m in cur.fetchall()]\n",
    "p_machines = np.array([random.randint(1,50) for _ in range(len(machines))])\n",
    "p_machines = p_machines / sum(p_machines)\n",
    "\n",
    "cur.execute('Select operator_id from warehouse.operator')\n",
    "operators = [o[0] for o in cur.fetchall()]\n",
    "p_operators = np.array([random.randint(1,50) for _ in range(len(operators))])\n",
    "p_operators = p_operators / sum(p_operators)\n",
    "\n",
    "cur.execute('Select department_name from warehouse.department')\n",
    "departments = [d[0] for d in cur.fetchall()]\n",
    "\n",
    "p_department = np.array([random.randint(1,25) for _ in range(len(departments))])\n",
    "p_department = p_department / sum(p_department)\n",
    "\n",
    "cur.execute('Select production_stage_id from warehouse.production_stage')\n",
    "production_stages = [ps[0] for ps in cur.fetchall()]\n",
    "\n",
    "cur.execute('Select quality_control_id from warehouse.quality_control')\n",
    "qualtities = [q[0] for q in cur.fetchall()]\n",
    "p_qualtities = np.array([10,2,3,50,60,300])\n",
    "p_qualtities = p_qualtities / sum(p_qualtities)"
   ]
  },
  {
   "cell_type": "code",
   "execution_count": 8,
   "metadata": {},
   "outputs": [],
   "source": [
    "res = requests.get('https://animalcrossingwiki.de/acnl/katalog/einrichtung')\n",
    "html_soup = BeautifulSoup(res.text, 'html.parser')    "
   ]
  },
  {
   "cell_type": "code",
   "execution_count": 9,
   "metadata": {},
   "outputs": [],
   "source": [
    "furnitures1 = {}\n",
    "furnitures2 = {}\n",
    "furnitures3 = {}\n",
    "einrichtungssets = html_soup.find(\"h3\", {\"id\": \"einrichtungssets\"}).nextSibling.nextSibling.findAll('a', class_= 'wikilink1')\n",
    "\n",
    "\n",
    "for i, einrichtungsset in enumerate(einrichtungssets):\n",
    "    title = einrichtungsset['title']\n",
    "    href = einrichtungsset['href']\n",
    "    \n",
    "    department = choice(departments, p=p_department)\n",
    "    \n",
    "    res = requests.get(f'https://animalcrossingwiki.de/{href}')\n",
    "    html_soup_child = BeautifulSoup(res.text, 'html.parser')\n",
    "    try:\n",
    "        if(i%3 == 0):\n",
    "            for furniture in [s.text for s in html_soup_child.find('table').findAll('strong')]:\n",
    "                furnitures1[furniture] = (title, department)  \n",
    "        elif(i%3 == 1):\n",
    "            for furniture in [s.text for s in html_soup_child.find('table').findAll('strong')]:\n",
    "                furnitures2[furniture] = (title, department)  \n",
    "        elif(i%3 == 2):\n",
    "            for furniture in [s.text for s in html_soup_child.find('table').findAll('strong')]:\n",
    "                furnitures3[furniture] = (title, department)\n",
    "    except AttributeError:\n",
    "        pass "
   ]
  },
  {
   "cell_type": "code",
   "execution_count": 29,
   "metadata": {},
   "outputs": [],
   "source": [
    "def create_products(furnitures):\n",
    "    raw_costs = {}\n",
    "    prod_values = []\n",
    "    for furniture, values in furnitures.items():\n",
    "        raw_costs[furniture] = {}\n",
    "        for i, prod_stage in enumerate(production_stages):\n",
    "            if(i < 3):\n",
    "                raw_costs[furniture][prod_stage] = random.randint(10, 500)\n",
    "            else:\n",
    "                raw_costs[furniture][prod_stage] = random.randint(0, 50)\n",
    "        for i in range(1, random.randint(10,200)):\n",
    "            prod_values.append(f'(\\'{furniture}\\', \\'{furniture+ \" - \"+ str(i)}\\', \\'{values[0]}\\', \\'{values[1]}\\')')\n",
    "    \n",
    "    query_args = ','.join(prod_values)\n",
    "    cur.execute(f'Insert into warehouse.product (product_name, product_number, product_category, product_department) values {query_args} returning product_id, product_name')\n",
    "    return (cur.fetchall(), raw_costs)\n",
    "\n",
    "\n",
    "def create_production(furnitures, raw_costs, partial_dates):\n",
    "    prod_values = []\n",
    "    max_day = len(partial_dates) - 60\n",
    "    for f_id, furniture in furnitures:\n",
    "        for prod_stage in production_stages:\n",
    "            curr_day = random.randint(0,max_day)\n",
    "            for i, prod_stage in enumerate(production_stages):\n",
    "                operator = choice(operators, p=p_operators)\n",
    "                quality = 'NULL'\n",
    "                if(random.random() < 0.1):\n",
    "                    quality = choice(qualtities, p=p_qualtities)\n",
    "                    \n",
    "                machine = choice(machines, p=p_machines)\n",
    "                num_d = random.randint(0,20)\n",
    "                next_day = curr_day + num_d\n",
    "                duration = num_d * random.randint(1,8) if num_d > 0 else random.randint(1,8)\n",
    "                \n",
    "                if(i < 3):\n",
    "                    raw_cost = random.randint(raw_costs[furniture][prod_stage]-10, raw_costs[furniture][prod_stage]+10)\n",
    "                else:\n",
    "                    raw_cost = random.randint(0, raw_costs[furniture][prod_stage]+10)\n",
    "                \n",
    "                prod_values.append(f'({operator}, {quality}, {machine}, {prod_stage}, {f_id}, {partial_dates[curr_day]}, \\\n",
    "                {partial_dates[next_day]}, {duration}, {raw_cost})')\n",
    "                \n",
    "                curr_day = next_day\n",
    "                \n",
    "    query_args = ','.join(prod_values)\n",
    "    cur.execute(f'Insert into warehouse.production (operator_id, quality_control_id, machine_id, \\\n",
    "    production_stage_id, product_id, start_date_id, end_date_id, duration, raw_material_cost) values {query_args}')\n",
    "            "
   ]
  },
  {
   "cell_type": "code",
   "execution_count": 30,
   "metadata": {},
   "outputs": [],
   "source": [
    "cur.execute('Delete from warehouse.product')\n",
    "products1, raw_costs1 = create_products(furnitures1)\n",
    "products2, raw_costs2 = create_products(furnitures2)\n",
    "products3, raw_costs3 = create_products(furnitures3)"
   ]
  },
  {
   "cell_type": "code",
   "execution_count": 31,
   "metadata": {},
   "outputs": [],
   "source": [
    "create_production(products1, raw_costs1, dates[:int(len(dates)/2)])\n",
    "create_production(products2, raw_costs2, dates[int(len(dates)/2):])\n",
    "create_production(products1, raw_costs1, dates)"
   ]
  },
  {
   "cell_type": "code",
   "execution_count": 32,
   "metadata": {},
   "outputs": [],
   "source": [
    "conn.commit()\n",
    "cur.close()\n",
    "conn.close()"
   ]
  },
  {
   "cell_type": "code",
   "execution_count": null,
   "metadata": {},
   "outputs": [],
   "source": []
  },
  {
   "cell_type": "code",
   "execution_count": null,
   "metadata": {},
   "outputs": [],
   "source": []
  },
  {
   "cell_type": "code",
   "execution_count": null,
   "metadata": {},
   "outputs": [],
   "source": []
  },
  {
   "cell_type": "code",
   "execution_count": null,
   "metadata": {},
   "outputs": [],
   "source": []
  }
 ],
 "metadata": {
  "kernelspec": {
   "display_name": "Python 3",
   "language": "python",
   "name": "python3"
  },
  "language_info": {
   "codemirror_mode": {
    "name": "ipython",
    "version": 3
   },
   "file_extension": ".py",
   "mimetype": "text/x-python",
   "name": "python",
   "nbconvert_exporter": "python",
   "pygments_lexer": "ipython3",
   "version": "3.7.0"
  }
 },
 "nbformat": 4,
 "nbformat_minor": 2
}

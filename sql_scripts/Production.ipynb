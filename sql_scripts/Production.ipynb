{
 "cells": [
  {
   "cell_type": "code",
   "execution_count": 39,
   "metadata": {},
   "outputs": [],
   "source": [
    "import psycopg2\n",
    "import random\n",
    "import requests\n",
    "import numpy as np\n",
    "from numpy.random import choice"
   ]
  },
  {
   "cell_type": "code",
   "execution_count": 50,
   "metadata": {},
   "outputs": [],
   "source": [
    "conn = psycopg2.connect(dbname='admt_g02', user='admt_g02', password='xi6aeSoo', host='alcor.inf.unibz.it', port=5433)\n",
    "cur = conn.cursor()"
   ]
  },
  {
   "cell_type": "code",
   "execution_count": 51,
   "metadata": {},
   "outputs": [],
   "source": [
    "cur.execute('Delete from warehouse.operator')\n",
    "cur.execute('Delete from warehouse.machine')"
   ]
  },
  {
   "cell_type": "code",
   "execution_count": 52,
   "metadata": {},
   "outputs": [],
   "source": [
    "res = requests.get(f'http://uinames.com/api/?region=austria&amount=100')\n",
    "operators = res.json()\n",
    "\n",
    "values = []\n",
    "for operator in operators:\n",
    "    values.append(f'(\\'{operator[\"name\"]} {operator[\"surname\"]}\\')')\n",
    "    \n",
    "query_args = ','.join(values)\n",
    "cur.execute(f'insert into warehouse.operator (operator_name) values {query_args}')"
   ]
  },
  {
   "cell_type": "code",
   "execution_count": 53,
   "metadata": {},
   "outputs": [],
   "source": [
    "res = requests.get(f'http://uinames.com/api/?amount=250')\n",
    "machines = [m['surname'] for m in res.json()]\n",
    "\n",
    "res = requests.get(f'http://uinames.com/api/?amount=20')\n",
    "vendors = [v['surname'] for v in res.json()]\n",
    "\n",
    "years = list(range(1995, 2011))\n",
    "\n",
    "values = []\n",
    "for machine in machines:\n",
    "    \n",
    "    p = np.linspace(20,5,len(vendors))\n",
    "    p = p / np.sum(p)\n",
    "    vendor = choice(vendors, p=p)\n",
    "    \n",
    "    year = choice(years)   \n",
    "    values.append(f'(\\'{machine}\\', \\'{vendor}\\', {year})')\n",
    "    \n",
    "query_args = ','.join(values)\n",
    "cur.execute(f'insert into warehouse.machine (machine_name, machine_vendor, machine_purchasing_year) values {query_args}')"
   ]
  },
  {
   "cell_type": "code",
   "execution_count": null,
   "metadata": {},
   "outputs": [],
   "source": []
  },
  {
   "cell_type": "code",
   "execution_count": 54,
   "metadata": {},
   "outputs": [],
   "source": [
    "conn.commit()\n",
    "cur.close()\n",
    "conn.close()"
   ]
  },
  {
   "cell_type": "code",
   "execution_count": null,
   "metadata": {},
   "outputs": [],
   "source": []
  },
  {
   "cell_type": "code",
   "execution_count": null,
   "metadata": {},
   "outputs": [],
   "source": []
  }
 ],
 "metadata": {
  "kernelspec": {
   "display_name": "Python 3",
   "language": "python",
   "name": "python3"
  },
  "language_info": {
   "codemirror_mode": {
    "name": "ipython",
    "version": 3
   },
   "file_extension": ".py",
   "mimetype": "text/x-python",
   "name": "python",
   "nbconvert_exporter": "python",
   "pygments_lexer": "ipython3",
   "version": "3.7.0"
  }
 },
 "nbformat": 4,
 "nbformat_minor": 2
}
